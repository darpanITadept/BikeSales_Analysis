{
 "cells": [
  {
   "cell_type": "code",
   "execution_count": 1,
   "metadata": {},
   "outputs": [],
   "source": [
    "import pandas as pd\n"
   ]
  },
  {
   "cell_type": "code",
   "execution_count": 3,
   "metadata": {},
   "outputs": [],
   "source": [
    "# Load the dataset into a Pandas DataFrame\n",
    "df = pd.read_csv('Sales.csv')"
   ]
  },
  {
   "cell_type": "code",
   "execution_count": 4,
   "metadata": {},
   "outputs": [
    {
     "name": "stdout",
     "output_type": "stream",
     "text": [
      "       Date  Day     Month  Year  Customer_Age       Age_Group  \\\n",
      "0  26/11/13   26  November  2013            19     Youth (<25)   \n",
      "1  26/11/15   26  November  2015            19     Youth (<25)   \n",
      "2  23/03/14   23     March  2014            49  Adults (35-64)   \n",
      "3  23/03/16   23     March  2016            49  Adults (35-64)   \n",
      "4  15/05/14   15       May  2014            47  Adults (35-64)   \n",
      "\n",
      "  Customer_Gender    Country             State Product_Category Sub_Category  \\\n",
      "0               M     Canada  British Columbia      Accessories   Bike Racks   \n",
      "1               M     Canada  British Columbia      Accessories   Bike Racks   \n",
      "2               M  Australia   New South Wales      Accessories   Bike Racks   \n",
      "3               M  Australia   New South Wales      Accessories   Bike Racks   \n",
      "4               F  Australia   New South Wales      Accessories   Bike Racks   \n",
      "\n",
      "               Product  Order_Quantity  Unit_Cost  Unit_Price  Profit  Cost  \\\n",
      "0  Hitch Rack - 4-Bike               8         45         120     590   360   \n",
      "1  Hitch Rack - 4-Bike               8         45         120     590   360   \n",
      "2  Hitch Rack - 4-Bike              23         45         120    1366  1035   \n",
      "3  Hitch Rack - 4-Bike              20         45         120    1188   900   \n",
      "4  Hitch Rack - 4-Bike               4         45         120     238   180   \n",
      "\n",
      "   Revenue  \n",
      "0      950  \n",
      "1      950  \n",
      "2     2401  \n",
      "3     2088  \n",
      "4      418  \n"
     ]
    }
   ],
   "source": [
    "# Display the first few rows of the dataset\n",
    "print(df.head())\n"
   ]
  },
  {
   "cell_type": "code",
   "execution_count": 5,
   "metadata": {},
   "outputs": [],
   "source": [
    "# Data Cleaning and Preprocessing\n",
    "# 1. Convert the 'Date' column to a datetime object\n",
    "df['Date'] = pd.to_datetime(df['Date'], format='%d/%m/%y')"
   ]
  },
  {
   "cell_type": "code",
   "execution_count": 6,
   "metadata": {},
   "outputs": [],
   "source": [
    "# 2. Remove duplicate rows\n",
    "df = df.drop_duplicates()\n"
   ]
  },
  {
   "cell_type": "code",
   "execution_count": 7,
   "metadata": {},
   "outputs": [
    {
     "name": "stdout",
     "output_type": "stream",
     "text": [
      "Date                0\n",
      "Day                 0\n",
      "Month               0\n",
      "Year                0\n",
      "Customer_Age        0\n",
      "Age_Group           0\n",
      "Customer_Gender     0\n",
      "Country             0\n",
      "State               0\n",
      "Product_Category    0\n",
      "Sub_Category        0\n",
      "Product             0\n",
      "Order_Quantity      0\n",
      "Unit_Cost           0\n",
      "Unit_Price          0\n",
      "Profit              0\n",
      "Cost                0\n",
      "Revenue             0\n",
      "dtype: int64\n"
     ]
    }
   ],
   "source": [
    "# 3. Check for missing values\n",
    "missing_values = df.isnull().sum()\n",
    "print(missing_values)"
   ]
  },
  {
   "cell_type": "code",
   "execution_count": 8,
   "metadata": {},
   "outputs": [
    {
     "name": "stdout",
     "output_type": "stream",
     "text": [
      "       Revenue   Profit\n",
      "Year                   \n",
      "2011   8951966  2877185\n",
      "2012   9133795  2938519\n",
      "2013  15117327  5912432\n",
      "2014  14040192  5818522\n",
      "2015  19945703  7497361\n",
      "2016  17637789  7002220\n"
     ]
    }
   ],
   "source": [
    "# Analysis\n",
    "# 4. Total Revenue and Profit Analysis by Year\n",
    "yearly_summary = df.groupby('Year')[['Revenue', 'Profit']].sum()\n",
    "print(yearly_summary)"
   ]
  },
  {
   "cell_type": "code",
   "execution_count": 9,
   "metadata": {},
   "outputs": [
    {
     "name": "stdout",
     "output_type": "stream",
     "text": [
      "Customer_Gender              F         M\n",
      "Age_Group                               \n",
      "Adults (35-64)        21159786  21207395\n",
      "Seniors (64+)           129891    177179\n",
      "Young Adults (25-34)  15075353  15391679\n",
      "Youth (<25)            5329659   6355830\n"
     ]
    }
   ],
   "source": [
    "# 5. Sales by Age Group and Gender\n",
    "sales_by_age_gender = df.groupby(['Age_Group', 'Customer_Gender'])['Revenue'].sum().unstack()\n",
    "print(sales_by_age_gender)"
   ]
  },
  {
   "cell_type": "code",
   "execution_count": 10,
   "metadata": {},
   "outputs": [
    {
     "name": "stdout",
     "output_type": "stream",
     "text": [
      "Product\n",
      "Mountain-200 Black, 38     1302237\n",
      "Road-150 Red, 62           1237388\n",
      "Mountain-200 Silver, 42    1226878\n",
      "Sport-100 Helmet, Red      1191175\n",
      "Mountain-200 Silver, 38    1155311\n",
      "Name: Profit, dtype: int64\n"
     ]
    }
   ],
   "source": [
    "# 6. Most Profitable Products\n",
    "top_profitable_products = df.groupby('Product')['Profit'].sum().nlargest(5)\n",
    "print(top_profitable_products)\n"
   ]
  },
  {
   "cell_type": "code",
   "execution_count": 11,
   "metadata": {},
   "outputs": [
    {
     "name": "stdout",
     "output_type": "stream",
     "text": [
      "Country         State              \n",
      "Australia       New South Wales        11.142164\n",
      "                Queensland             11.012942\n",
      "                South Australia        10.070277\n",
      "                Tasmania               11.103734\n",
      "                Victoria               10.994140\n",
      "Canada          Alberta                10.482143\n",
      "                British Columbia       13.569567\n",
      "                Ontario                19.333333\n",
      "France          Charente-Maritime      11.013605\n",
      "                Essonne                11.924873\n",
      "                Garonne (Haute)        11.565217\n",
      "                Hauts de Seine         11.728119\n",
      "                Loir et Cher           12.308333\n",
      "                Loiret                 11.273684\n",
      "                Moselle                10.838542\n",
      "                Nord                   11.464048\n",
      "                Pas de Calais          13.422222\n",
      "                Seine (Paris)          11.755076\n",
      "                Seine Saint Denis      11.922434\n",
      "                Seine et Marne         11.294872\n",
      "                Somme                  12.353383\n",
      "                Val d'Oise             12.526515\n",
      "                Val de Marne           13.356688\n",
      "                Yveline                11.416755\n",
      "Germany         Bayern                 10.927311\n",
      "                Brandenburg            11.538071\n",
      "                Hamburg                11.098018\n",
      "                Hessen                 11.073418\n",
      "                Nordrhein-Westfalen    12.027497\n",
      "                Saarland               11.204067\n",
      "United Kingdom  England                11.550423\n",
      "United States   Alabama                26.250000\n",
      "                Arizona                 1.750000\n",
      "                California             12.043834\n",
      "                Florida                 8.928571\n",
      "                Georgia                14.000000\n",
      "                Illinois               10.678571\n",
      "                Kentucky               13.000000\n",
      "                Massachusetts           1.000000\n",
      "                Minnesota              21.833333\n",
      "                Mississippi            22.750000\n",
      "                Missouri               11.000000\n",
      "                Montana                20.333333\n",
      "                New York               13.800000\n",
      "                North Carolina         15.750000\n",
      "                Ohio                   20.428571\n",
      "                Oregon                 12.686047\n",
      "                South Carolina         11.700000\n",
      "                Texas                  11.000000\n",
      "                Utah                   12.600000\n",
      "                Virginia               15.750000\n",
      "                Washington             12.257701\n",
      "                Wyoming                10.500000\n",
      "Name: Order_Quantity, dtype: float64\n"
     ]
    }
   ],
   "source": [
    "# 7. Average Order Quantity by Country and State\n",
    "avg_order_quantity = df.groupby(['Country', 'State'])['Order_Quantity'].mean()\n",
    "print(avg_order_quantity)"
   ]
  },
  {
   "cell_type": "code",
   "execution_count": 12,
   "metadata": {},
   "outputs": [
    {
     "name": "stdout",
     "output_type": "stream",
     "text": [
      "Year  Month   \n",
      "2011  April        698782\n",
      "      August       880037\n",
      "      December    1132666\n",
      "      February     635179\n",
      "      January      675193\n",
      "                   ...   \n",
      "2016  January     2535084\n",
      "      July         498424\n",
      "      June        3568945\n",
      "      March       2600455\n",
      "      May         3249980\n",
      "Name: Revenue, Length: 62, dtype: int64\n"
     ]
    }
   ],
   "source": [
    "# 8. Monthly Sales Trend\n",
    "monthly_sales_trend = df.groupby(['Year', 'Month'])['Revenue'].sum()\n",
    "print(monthly_sales_trend)"
   ]
  },
  {
   "cell_type": "code",
   "execution_count": 13,
   "metadata": {},
   "outputs": [
    {
     "name": "stdout",
     "output_type": "stream",
     "text": [
      "Product_Category\n",
      "Accessories    0.163724\n",
      "Bikes          0.739117\n",
      "Clothing       0.097159\n",
      "Name: Revenue, dtype: float64\n"
     ]
    }
   ],
   "source": [
    "# 9. Product Category Sales Distribution for a Specific Year\n",
    "year = 2015\n",
    "category_sales_distribution = df[df['Year'] == year].groupby('Product_Category')['Revenue'].sum()\n",
    "category_sales_distribution /= category_sales_distribution.sum()  # Calculate percentage\n",
    "print(category_sales_distribution)"
   ]
  },
  {
   "cell_type": "code",
   "execution_count": 14,
   "metadata": {},
   "outputs": [
    {
     "name": "stdout",
     "output_type": "stream",
     "text": [
      "Sub_Category\n",
      "Bike Racks            517800\n",
      "Bike Stands           342830\n",
      "Bottles and Cages    1390570\n",
      "Cleaners              198821\n",
      "Fenders              1245733\n",
      "Helmets              5738482\n",
      "Hydration Packs       990406\n",
      "Tires and Tubes      4598124\n",
      "Name: Revenue, dtype: int64\n"
     ]
    }
   ],
   "source": [
    "# 10. Total Sales by Sub-Category for a Specific Product Category\n",
    "product_category = 'Accessories'\n",
    "sub_category_sales = df[df['Product_Category'] == product_category].groupby('Sub_Category')['Revenue'].sum()\n",
    "print(sub_category_sales)"
   ]
  },
  {
   "cell_type": "code",
   "execution_count": 15,
   "metadata": {},
   "outputs": [],
   "source": [
    "# Export the updated DataFrame to a new CSV file\n",
    "df.to_csv('UpdatedSale.csv', index=False)\n"
   ]
  },
  {
   "cell_type": "code",
   "execution_count": null,
   "metadata": {},
   "outputs": [],
   "source": []
  }
 ],
 "metadata": {
  "kernelspec": {
   "display_name": "Python 3.11.5 ('base')",
   "language": "python",
   "name": "python3"
  },
  "language_info": {
   "codemirror_mode": {
    "name": "ipython",
    "version": 3
   },
   "file_extension": ".py",
   "mimetype": "text/x-python",
   "name": "python",
   "nbconvert_exporter": "python",
   "pygments_lexer": "ipython3",
   "version": "3.11.5"
  },
  "orig_nbformat": 4,
  "vscode": {
   "interpreter": {
    "hash": "c49d5e5a8c465b3de2b7817ed918e2e9f8e9135447f5ee1f4df7b935567d16b2"
   }
  }
 },
 "nbformat": 4,
 "nbformat_minor": 2
}
